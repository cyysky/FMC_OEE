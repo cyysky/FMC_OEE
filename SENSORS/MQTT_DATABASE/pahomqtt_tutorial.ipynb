{
 "cells": [
  {
   "cell_type": "code",
   "execution_count": 1,
   "id": "24678607-e2e6-430c-86d6-ab14a6e9c41e",
   "metadata": {},
   "outputs": [],
   "source": [
    "import paho.mqtt.client as mqtt\n",
    "import json\n",
    "import traceback"
   ]
  },
  {
   "cell_type": "code",
   "execution_count": 2,
   "id": "b174f0e7-7601-4ecb-99be-ab658ca0b0ca",
   "metadata": {},
   "outputs": [],
   "source": [
    "def on_connect(client, userdata, flags, rc):\n",
    "    if rc == 0:\n",
    "        print(\"MQTT Connected\")\n",
    "\n",
    "def on_message(client, userdata, message):\n",
    "    msg = str(message.payload.decode(\"utf-8\"))\n",
    "    try:\n",
    "        json_object = json.loads(msg)\n",
    "        print(json_object)\n",
    "    except ValueError as e:\n",
    "        traceback.print_exc()\n",
    "    \n",
    "    \n",
    "    print(\"message received \" ,msg)\n",
    "    print(\"message topic=\",message.topic)\n",
    "    print(\"message qos=\",message.qos)\n",
    "    print(\"message retain flag=\",message.retain)  \n",
    "    \n",
    "    #insert_record(msg)\n",
    "\n",
    "def mqtt_start():\n",
    "    global mqtt_client\n",
    "    mqtt_client = mqtt.Client(\"server\")\n",
    "    mqtt_client.on_connect=on_connect\n",
    "    mqtt_client.username_pw_set(username=\"IOT15\",password=\"P15\")\n",
    "    mqtt_client.connect(\"localhost\", 1883,60)    \n",
    "    mqtt_client.loop_start()"
   ]
  },
  {
   "cell_type": "code",
   "execution_count": 3,
   "id": "e5411519-37e1-4de9-bb33-8d698e3764ed",
   "metadata": {},
   "outputs": [
    {
     "name": "stdout",
     "output_type": "stream",
     "text": [
      "MQTT Connected\n"
     ]
    },
    {
     "name": "stderr",
     "output_type": "stream",
     "text": [
      "Traceback (most recent call last):\n",
      "  File \"<ipython-input-2-4a29f854ef93>\", line 8, in on_message\n",
      "    json_object = json.loads(msg)\n",
      "  File \"/usr/lib/python3.7/json/__init__.py\", line 348, in loads\n",
      "    return _default_decoder.decode(s)\n",
      "  File \"/usr/lib/python3.7/json/decoder.py\", line 337, in decode\n",
      "    obj, end = self.raw_decode(s, idx=_w(s, 0).end())\n",
      "  File \"/usr/lib/python3.7/json/decoder.py\", line 355, in raw_decode\n",
      "    raise JSONDecodeError(\"Expecting value\", s, err.value) from None\n",
      "json.decoder.JSONDecodeError: Expecting value: line 1 column 1 (char 0)\n"
     ]
    },
    {
     "name": "stdout",
     "output_type": "stream",
     "text": [
      "message received  ok\n",
      "message topic= test\n",
      "message qos= 0\n",
      "message retain flag= 0\n",
      "{'hello': 'ok'}\n",
      "message received  {\"hello\":\"ok\"}\n",
      "message topic= test\n",
      "message qos= 0\n",
      "message retain flag= 0\n",
      "{'hello': 'ok'}\n",
      "message received  {\"hello\":\"ok\"}\n",
      "message topic= test\n",
      "message qos= 0\n",
      "message retain flag= 0\n",
      "{'hello': 'ok'}\n",
      "message received  {\"hello\":\"ok\"}\n",
      "message topic= test\n",
      "message qos= 0\n",
      "message retain flag= 0\n",
      "MQTT Connected\n",
      "MQTT Connected\n",
      "MQTT Connected\n",
      "MQTT Connected\n",
      "MQTT Connected\n",
      "MQTT Connected\n",
      "MQTT Connected\n",
      "MQTT Connected\n",
      "MQTT Connected\n",
      "MQTT Connected\n",
      "MQTT Connected\n"
     ]
    }
   ],
   "source": [
    "global mqtt_client\n",
    "mqtt_start()\n",
    "mqtt_client.subscribe(\"test\")\n",
    "mqtt_client.on_message = on_message"
   ]
  },
  {
   "cell_type": "code",
   "execution_count": null,
   "id": "067e58d3-687d-4c87-8c29-ac5d1c603062",
   "metadata": {},
   "outputs": [],
   "source": []
  }
 ],
 "metadata": {
  "kernelspec": {
   "display_name": "Python 3",
   "language": "python",
   "name": "python3"
  },
  "language_info": {
   "codemirror_mode": {
    "name": "ipython",
    "version": 3
   },
   "file_extension": ".py",
   "mimetype": "text/x-python",
   "name": "python",
   "nbconvert_exporter": "python",
   "pygments_lexer": "ipython3",
   "version": "3.7.3"
  }
 },
 "nbformat": 4,
 "nbformat_minor": 5
}
